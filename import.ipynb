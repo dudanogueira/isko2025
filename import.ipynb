{
 "cells": [
  {
   "cell_type": "markdown",
   "metadata": {},
   "source": [
    "# Importação\n",
    "Defina as variáveis `WEAVIATE_URL` e `WEAVIATE_APIKEY` para utilizar o Weaviate cloud ou execute uma [instância docker local](https://weaviate.io/developers/weaviate/installation/docker-compose)"
   ]
  },
  {
   "cell_type": "code",
   "execution_count": null,
   "metadata": {},
   "outputs": [
    {
     "name": "stdout",
     "output_type": "stream",
     "text": [
      "Client: 4.11.1, Server: 1.28.6\n"
     ]
    }
   ],
   "source": [
    "import weaviate\n",
    "import os\n",
    "\n",
    "client = weaviate.connect_to_weaviate_cloud(\n",
    "    cluster_url=os.getenv(\"WEAVIATE_URL\"),\n",
    "    auth_credentials=weaviate.auth.AuthApiKey(os.getenv(\"WEAVIATE_APIKEY\")),\n",
    "    headers={\n",
    "        \"X-Openai-Api-Key\": os.getenv(\"OPENAI_API_KEY\")\n",
    "    }\n",
    ")\n",
    "\n",
    "# client = weaviate.connect_to_local(\n",
    "#     headers={\n",
    "#         \"X-Openai-Api-Key\": os.getenv(\"OPENAI_API_KEY\")\n",
    "#     }\n",
    "# )\n",
    "print(f\"Client: {weaviate.__version__}, Server: {client.get_meta().get('version')}\")"
   ]
  },
  {
   "cell_type": "code",
   "execution_count": 7,
   "metadata": {},
   "outputs": [
    {
     "data": {
      "text/plain": [
       "<weaviate.collections.collection.sync.Collection at 0x107033b00>"
      ]
     },
     "execution_count": 7,
     "metadata": {},
     "output_type": "execute_result"
    }
   ],
   "source": [
    "from weaviate import classes as wvc\n",
    "client.collections.delete(\"Index\")\n",
    "client.collections.create(\n",
    "    \"Index\",\n",
    "    vectorizer_config=wvc.config.Configure.Vectorizer.text2vec_openai(\n",
    "        model=\"text-embedding-3-small\",\n",
    "    ),\n",
    "    generative_config=wvc.config.Configure.Generative.openai(\n",
    "        model=\"gpt-4o\"\n",
    "    )\n",
    ")"
   ]
  },
  {
   "cell_type": "code",
   "execution_count": 8,
   "metadata": {},
   "outputs": [
    {
     "name": "stdout",
     "output_type": "stream",
     "text": [
      "Imported with success\n"
     ]
    }
   ],
   "source": [
    "# read csv file\n",
    "import pandas as pd\n",
    "from weaviate.util import generate_uuid5\n",
    "collection = client.collections.get(\"Index\")\n",
    "df = pd.read_csv(\"trabalhos_60700009.csv\")\n",
    "df.columns = map(str.lower, df.columns)\n",
    "# this can be used to test the import with a smaller dataset\n",
    "# df = df.head(500)\n",
    "with collection.batch.dynamic() as batch:\n",
    "    for index, row in df.iterrows():\n",
    "        batch.add_object(\n",
    "            dict(row),\n",
    "            uuid=generate_uuid5(row[\"indice\"]),\n",
    "        )\n",
    "if collection.batch.failed_objects:\n",
    "    print(collection.batch.failed_objects)\n",
    "else:\n",
    "    print(\"Imported with success\")"
   ]
  },
  {
   "cell_type": "code",
   "execution_count": 9,
   "metadata": {},
   "outputs": [
    {
     "data": {
      "text/plain": [
       "AggregateReturn(properties={}, total_count=4785)"
      ]
     },
     "execution_count": 9,
     "metadata": {},
     "output_type": "execute_result"
    }
   ],
   "source": [
    "collection.aggregate.over_all()"
   ]
  },
  {
   "cell_type": "markdown",
   "metadata": {},
   "source": [
    "Agora abra o arquivo [queries.ipynb](queries.ipynb)"
   ]
  }
 ],
 "metadata": {
  "kernelspec": {
   "display_name": ".venv",
   "language": "python",
   "name": "python3"
  },
  "language_info": {
   "codemirror_mode": {
    "name": "ipython",
    "version": 3
   },
   "file_extension": ".py",
   "mimetype": "text/x-python",
   "name": "python",
   "nbconvert_exporter": "python",
   "pygments_lexer": "ipython3",
   "version": "3.12.9"
  }
 },
 "nbformat": 4,
 "nbformat_minor": 2
}
