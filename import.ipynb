{
 "cells": [
  {
   "cell_type": "code",
   "execution_count": null,
   "metadata": {},
   "outputs": [],
   "source": [
    "import weaviate\n",
    "import os\n",
    "from weaviate import classes as wvc\n",
    "client = weaviate.connect_to_weaviate_cloud(\n",
    "    cluster_url=\"\",\n",
    "    auth_credentials=weaviate.auth.AuthApiKey(\"\"),\n",
    "    headers={\n",
    "        \"X-Openai-Api-Key\": os.getenv(\"OPENAI_API_KEY\")\n",
    "    }\n",
    ")\n",
    "# client = weaviate.connect_to_local(\n",
    "#     headers={\n",
    "#         \"X-Openai-Api-Key\": os.getenv(\"OPENAI_API_KEY\")\n",
    "#     }\n",
    "# )"
   ]
  },
  {
   "cell_type": "code",
   "execution_count": null,
   "metadata": {},
   "outputs": [
    {
     "data": {
      "text/plain": [
       "<weaviate.collections.collection.sync.Collection at 0x128f5adb0>"
      ]
     },
     "execution_count": 15,
     "metadata": {},
     "output_type": "execute_result"
    }
   ],
   "source": [
    "from weaviate import classes as wvc\n",
    "#client.collections.delete(\"Index\")\n",
    "client.collections.create(\n",
    "    \"Index\",\n",
    "    vectorizer_config=wvc.config.Configure.Vectorizer.text2vec_openai(\n",
    "        model=\"text-embedding-3-small\",\n",
    "    ),\n",
    "    generative_config=wvc.config.Configure.Generative.openai()\n",
    ")"
   ]
  },
  {
   "cell_type": "code",
   "execution_count": 31,
   "metadata": {},
   "outputs": [
    {
     "name": "stdout",
     "output_type": "stream",
     "text": [
      "Imported with success\n"
     ]
    }
   ],
   "source": [
    "# read csv file\n",
    "import pandas as pd\n",
    "from weaviate.util import generate_uuid5\n",
    "collection = client.collections.get(\"Index\")\n",
    "df = pd.read_csv(\"trabalhos_60700009.csv\")\n",
    "df.columns = map(str.lower, df.columns)\n",
    "# read only 10 objects\n",
    "df = df.head(500)\n",
    "with collection.batch.dynamic() as batch:\n",
    "    for index, row in df.iterrows():\n",
    "        batch.add_object(\n",
    "            dict(row),\n",
    "            uuid=generate_uuid5(row[\"indice\"]),\n",
    "        )\n",
    "if collection.batch.failed_objects:\n",
    "    print(collection.batch.failed_objects)\n",
    "else:\n",
    "    print(\"Imported with success\")"
   ]
  },
  {
   "cell_type": "code",
   "execution_count": 43,
   "metadata": {},
   "outputs": [
    {
     "data": {
      "text/plain": [
       "AggregateReturn(properties={}, total_count=500)"
      ]
     },
     "execution_count": 43,
     "metadata": {},
     "output_type": "execute_result"
    }
   ],
   "source": [
    "collection.aggregate.over_all()"
   ]
  },
  {
   "cell_type": "code",
   "execution_count": 45,
   "metadata": {},
   "outputs": [
    {
     "name": "stdout",
     "output_type": "stream",
     "text": [
      "##############################0.38957417011260986\n",
      "RESUMO O desenvolvimento científico e tecnológico vem trazendo em seu escopo novas estruturas de.conteúdos. Relações de toda ordem montam teias que ligam dados, informações, pessoas e.locais em um mesmo ambiente não mais físico. A velocidade determinante deste novo século.tem gerado inquietações acerca da nova situação que envolve todas as áreas do conhecimento..Grandes volumes de conteúdos precisam ser recuperados com rapidez e precisão atendendo às.expectativas dos usuários. Sistemas de Recuperação de Informação são desenvolvidos na.tentativa de solucionar esta questão. A pesquisa se insere no universo das linguagens.aplicadas nesses sistemas e sua motivação é fruto da leitura e reflexão de estudos anteriores.sobre o tema, envolvendo aspectos da sua estrutura, conceitos, relacionamentos e variações..Abordando a linguagem natural e suas novas formas de representação, são estudadas as.ontologias de um Sistema de Recuperação de Informações que utiliza a tecnologia KMAI..Esta tecnologia adota técnicas de inteligência artificial e ontologias como forma de.recuperação da informação em documentos não-estruturados disponíveis em mídias escritas:.jornais, revistas e sites eletrônicos com código aberto. O sistema-alvo de estudo, desenvolvido.para o Observatório Regional Base de Indicadores de Sustentabilidade Metropolitano de.Curitiba- ORBIS_MC, busca estruturar informações que vão subsidiar políticas públicas de.desenvolvimento para a região metropolitana por meio de monitoramento, recuperação e.composição da base do conhecimento sobre Saúde Ambiental, Saúde Humana e Violência.Urbana na Região Metropolitana de Curitiba. O sistema conta com um dicionário de termos.construído por especialistas nas áreas definidas como objeto de representação. A presente.pesquisa propõe uma metodologia de validação das ontologias que integram este dicionário,.considerando os critérios lingüísticos que reflitam o uso da língua no contexto comunicativo,.visto que se trata de uma linguagem utilizada para recuperar conteúdos cuja função é.comunicar. Apoiando-se no estudo de publicações já reconhecidas nas áreas de Ciência da.Informação e Lingüística, foram sistematizadas recomendações sobre o estabelecimento das.relações semânticas entre os termos, a fim de definir critérios de validação de ontologias sob o.ponto de vista lingüístico. Esses critérios foram aplicados em um “corpus” de 28 termos e 163.relações semânticas. O resultado da análise apresenta 82,21% de relações semânticas.consideradas consistentes e 17,79% inadequadas. Para este último conjunto, foram tecidas.recomendações.  A aplicação da metodologia de fundamentação lingüística sob a.perspectiva do uso, adotada nesta pesquisa, produziu uma ontologia atualizada,.tanto no seu aspecto lexical como semântico, colaborando com o aumento da.eficiência de recuperação da informação.\n",
      "NOME PRODUCAO METODOLOGIA PARA VALIDAÇÃO DE ONTOLOGIAS: O CASO ORBIS_MC\n",
      "##############################0.40056443214416504\n",
      "RESUMO O acelerado desenvolvimento das tecnologias de informação e comunicação promove um avanço vertiginoso na veiculação do conhecimento. Tal fato incide diretamente na comunicação entre especialistas que, por meio de linguagens de especialidade, laçam mão de terminologias próprias e específicas para transmitirem conteúdos informacionais das mais diversas áreas científicas e tecnológicas. Linguagens Documentárias são modelos de representação do conhecimento que, servindo como instrumentos de controle terminológico, auxiliam o processo de indexação e recuperação de documentos por assunto. O tesauro é uma linguagem documentária caracterizada pela especificidade e pela complexidade existente no relacionamento entre os termos que comunicam o conhecimento especializado. A ontologia é um modelo de representação do conhecimento que, a exemplo do tesauro, é utilizada para representar e recuperar informação por meio de uma estrutura conceitual (no caso da ontologia o meio de ação é o informático). A presente pesquisa consiste sobretudo na identificação, por meio de uma pesquisa documental, de aspectos que aproximam e distanciam os fundamentos do tesauro e o da ontologia. Para tanto, foi empregado, no plano metodológico, o Método de Análise de Conteúdo de Laurence Bardin. No plano teórico, a pesquisa está fundamentada pela Teoria Comunicativa da Terminologia (TCT) de Maria Teresa Cabré, que zela pelo caráter comunicativo no ambiente científico e técnico, baseando-se no uso social da linguagem efetivamente utilizada por especialistas. Para a constituição do corpus de análise foram utilizadas as bases de dados da Library and Information Science Abstracts (LISA), da Wilson Library Literature and Information Science Full Text e da Biblioteca Digital de Teses e Dissertações do IBICT (BDTD). A análise dos resultados e interpretações proporcionaram significativas contribuições aos estudos dos modelos de representação do conhecimento, visto que inúmeras características semelhantes e diferentes entre tesauros e ontologias foram identificadas e comentadas. Constatou-se que ambos os instrumentos se aproximam no que diz respeito ao esclarecimento dos aspectos relativos aos termos e suas estruturas conceituais. Suas diferenças se acentuam na esfera das aplicações, pois os recursos informáticos que suportam as ontologias as concedem objetivos que vão além daqueles atribuídos aos tesauros.\n",
      "NOME PRODUCAO TESAUROS E ONTOLOGIAS SOB A LUZ DA TEORIA COMUNICATIVA DA TERMINOLOGIA\n",
      "##############################0.41295546293258667\n",
      "RESUMO A organização da informação tem nas bibliotecas digitais um importante movimento mundial em torno do armazenamento, preservação, acesso e divulgação da produção científica. Considerando o crescimento do acervo eletrônico a ser organizado, propõe-se investigar os princípios para uma estruturação temática adequada ao ambiente das bibliotecas digitais de teses e dissertações, com os objetivos de fornecer subsídios para elaboração de estruturas temáticas dentro do contexto da Ciência da Informação e identificar aspectos teórico-metodológicos de teorias com abordagem de categorização de assuntos aplicáveis à organização de conteúdos das bibliotecas digitais de teses e dissertações em instituições de ensino superior. Identificou-se na literatura, proposta de sistematização das tendências teóricas em organização do conhecimento em duas teorias: a macroestrutural e a microestrutural. Na teoria macroestrutural, os aspectos teórico-metodológicos são mais apropriados ao alcance dos objetivos, por proporcionar um agrupamento das teorias que parte das disciplinas até os âmbitos temáticos mais gerais para explicar a estruturação de conceitos, ao invés da teoria microestrutural que trata do corpus teórico como unidade mínima do conhecimento estudando, assim, a relação entre conceitos. As tendências teóricas existentes dentro da teoria macroestrutural, são: mapa conceitual; domínio temático; campos semânticos e as teorias terminológicas. A avaliação dessas teorias revelou a importância do contexto social e cultural, salientada em entrevistas realizadas com pesquisadores do Instituto de Física Teórica da Universidade Estadual Paulista / UNESP, na construção das relações conceituais da organização do conhecimento a serem aplicadas em ambientes digitais movidos por ações de interação, tanto no seu uso individual como na multiplicidade de atores envolvidos como são as bibliotecas digitais. ..Palavras-chave: Organização do conhecimento. Categorização de assuntos. Biblioteca digital.\n",
      "NOME PRODUCAO Organização do conhecimento em bibliotecas digitais de teses e dissertações: análise da aplicabilidade das teorias macroestruturais para categorização de áreas de assunto\n",
      "##############################0.42400670051574707\n",
      "RESUMO O MODELO SIMPLE KNOWLEDGE ORGANIZATION SYSTEM (SKOS) TEM OTIMIZADO PRÁTICAS DE ORGANIZAÇÃO E RECUPERAÇÃO DO CONHECIMENTO ATRAVÉS DA REPRESENTAÇÃO DE SISTEMAS DE ORGANIZAÇÃO DO CONHECIMENTO (SOC). ESSE PROCESSO QUE VISA A ESTRUTURAÇÃO DE CONCEITOS EM SKOS TEM PERMITIDO A INTEROPERABILIDADE ENTRE VOCABULÁRIOS, SISTEMAS E MÁQUINAS. ESTA PESQUISA TEM POR OBJETIVO ANALISAR A SUBCATEGORIA 2.1 ORGANIZAÇÃO DO CONHECIMENTO DO TESAURO BRASILEIRO DE CIÊNCIA DA INFORMAÇÃO PARA REPRESENTÁ-LA EM SKOS. PARA ATINGIR O OBJETIVO DA PESQUISA, UTILIZA-SE O TBCI EM FORMATO EM PDF, PUBLICADO PELO INSTITUTO BRASILEIRO DE INFORMAÇÃO EM CIÊNCIA E TECNOLOGIA (IBICT), 2014 E A VERSÃO ELETRÔNICA DISPONÍVEL PELO PROGRAMA DE PÓS-GRADUAÇÃO EM CIÊNCIA DA INFORMAÇÃO (PPGCI) DA UNIVERSIDADE ESTADUAL DE LONDRINA (UEL), 2017. TRATA-SE DE UMA PESQUISA DE NATUREZA APLICADA E CUNHO TEÓRICO-METODOLÓGICO, DO TIPO EXPLORATÓRIA E DESCRITIVA, COM ABORDAGEM QUALITATIVA. COMO RESULTADO, BUSCA APRESENTAR UMA ESTRUTURA CONCEITUAL REPRESENTADA EM SKOS COM CAPACIDADE DE LEGIBILIDADE PARA MÁQUINAS E POTENCIALIZAR A CAPACIDADE DE RECUPERAÇÃO E INTEROPERABILIDADE DO TBCI, BEM COMO CONTRIBUIR COM OS ESTUDOS EM ORGANIZAÇÃO DO CONHECIMENTO (OC) NA CIÊNCIA DA INFORMAÇÃO.\n",
      "NOME PRODUCAO REPRESENTAÇÃO EM SKOS DA SUBCATEGORIA ORGANIZAÇÃO DO CONHECIMENTO DO TESAURO BRASILEIRO DE CIÊNCIA DA INFORMAÇÃO.\n",
      "##############################0.4714980721473694\n",
      "RESUMO APRESENTA UMA PROPOSTA DE ARCABOUÇO TEÓRICO TRANSDISCIPLINAR PARA UMA FUNDAMENTAÇÃO EPISTEMOLÓGICA DO PROBLEMA DO ENTENDIMENTO HUMANO, QUE PERMITA A IDENTIFICAÇÃO E A ANÁLISE DAS CAUSAS DE IMPRECISÕES E DISTORÇÕES EM REPRESENTAÇÕES DO CONHECIMENTO CONSTRUÍDAS A PARTIR DE NARRATIVAS. ANALISA O PROCESSO DE RAMIFICAÇÃO E/OU INTEGRAÇÃO ENTRE A CIÊNCIA DA INFORMAÇÃO E DIVERSAS ÁREAS DO CONHECIMENTO, FUNDAMENTANDO UMA PROPOSTA MAIS ABRANGENTE E TRANSDISCIPLINAR PARA ESTA ÁREA DO CONHECIMENTO, JUSTIFICANDO ASSIM A REALIZAÇÃO DESTE PROJETO DE PESQUISA NA ÁREA DISCIPLINAR DA CIÊNCIA DA INFORMAÇÃO. TESTA ALGUNS CONCEITOS FILOSÓFICOS ESPECÍFICOS DA TEORIA DO CONHECIMENTO, SOB UMA PERSPECTIVA FENOMENOLÓGICA, UTILIZADOS NESTA PESQUISA DE MESTRADO, CONTRAPONDO-OS COM PROPRIEDADES E RESULTADOS EXPERIMENTAIS DA FÍSICA E DA NEUROFISIOLOGIA. ANALISA A NATUREZA DA INFORMAÇÃO, DO DADO E DO CONHECIMENTO, ENTRADAS E RESULTADO DO PROCESSO COGNITIVO HUMANO, PROCURANDO DISTINGUI-LOS E DEFINI-LOS A PARTIR DA CONTRAPOSIÇÃO DE CONCEITOS FILOSÓFICOS ESPECÍFICOS DA TEORIA DO CONHECIMENTO, SOB UMA PERSPECTIVA FENOMENOLÓGICA, COM PROPRIEDADES E RESULTADOS EXPERIMENTAIS DA FÍSICA E DA NEUROFISIOLOGIA. CONSTRÓI UM MODELO TEÓRICO DO MECANISMO HUMANO DE APREENSÃO, SOB UMA PERSPECTIVA FENOMENOLÓGICA DA TEORIA DO CONHECIMENTO, OBJETIVANDO O DETALHAMENTO DA ESTRUTURA E A IDENTIFICAÇÃO DOS DIVERSOS ESTÁGIOS DO PROCESSO COGNITIVO HUMANO, ENVOLVIDOS NA PRODUÇÃO E TRANSFORMAÇÃO DO CONHECIMENTO. IDENTIFICA E ANALISA ALGUMAS DAS PRINCIPAIS CAUSAS DE OCORRÊNCIAS NÃO INTENCIONAIS DE IMPRECISÃO E DISTORÇÃO EM REPRESENTAÇÕES DO CONHECIMENTO, CONSTRUÍDAS A PARTIR DE NARRATIVAS.\n",
      "NOME PRODUCAO PROPOSTA DE FUNDAMENTAÇÃO TEÓRICA PARA O PROBLEMA DO ENTENDIMENTO HUMANO\n",
      "------------------------------------------------------------\n",
      "Os projetos relacionados à ontologia e organização do conhecimento são:\n",
      "\n",
      "1. \"Metodologia para validação de ontologias: o caso ORBIS_MC\" da Universidade Federal de Santa Catarina (UFSC): Este projeto aborda a validação de ontologias em um Sistema de Recuperação de Informações que utiliza a tecnologia KMAI. O sistema em estudo busca estruturar informações para subsidiar políticas públicas de desenvolvimento na região metropolitana de Curitiba.\n",
      "\n",
      "2. \"Tesauros e ontologias sob a luz da teoria comunicativa da terminologia\" da Universidade Federal de Santa Catarina (UFSC): Este projeto investiga os fundamentos do tesauro e da ontologia, destacando suas semelhanças e diferenças. A pesquisa utiliza a Teoria Comunicativa da Terminologia como base teórica.\n",
      "\n",
      "3. \"Organização do conhecimento em bibliotecas digitais de teses e dissertações: análise da aplicabilidade das teorias macroestruturais para categorização de áreas de assunto\" da Universidade Estadual Paulista Júlio de Mesquita Filho (UNESP): Este projeto analisa os princípios para uma estruturação temática adequada em bibliotecas digitais de teses e dissertações, utilizando teorias macroestruturais.\n",
      "\n",
      "4. \"Representação em SKOS da subcategoria 'Organização do Conhecimento' do Tesauro Brasileiro de Ciência da Informação\" da Universidade Estadual de Londrina (UEL): Este projeto tem como objetivo representar a subcategoria 'Organização do Conhecimento' do Tesauro Brasileiro de Ciência da Informação em SKOS, visando melhorar a recuperação e interoperabilidade do TBCI.\n",
      "\n",
      "5. \"Proposta de fundamentação teórica para o problema do entendimento humano\" da Universidade de Brasília (UNB): Este projeto propõe um arcabouço teórico transdisciplinar para fundamentar o problema do entendimento humano, analisando a relação entre a Ciência da Informação e outras áreas do conhecimento.\n",
      "\n",
      "Cada um desses projetos está próximo da busca por ontologia e organização do conhecimento, pois abordam temas como validação de ontologias, tesauros, categorização de assuntos, representação do conhecimento em SKOS e fundamentação teórica para o entendimento humano, todos relacionados à estruturação e recuperação de informações de forma eficiente e precisa.\n"
     ]
    }
   ],
   "source": [
    "query = collection.generate.near_text(\n",
    "    query=\"Quais os projetos relacionados a ontologia e Organização do conhecimento?\",\n",
    "    return_metadata=wvc.query.MetadataQuery(distance=True),\n",
    "    grouped_task=\"Sumarize os conteúdos e explique porque cada um está próximo da busca: Quais os projetos relacionados a ontologia e Organização do conhecimento?\",\n",
    "    limit=200,\n",
    "    auto_limit=1\n",
    ")\n",
    "for o in query.objects:\n",
    "    print(\"###\"*10 + str(o.metadata.distance))\n",
    "    print(\"RESUMO\", o.properties.get(\"ds_resumo\"))\n",
    "    print(\"NOME PRODUCAO\", o.properties.get(\"nm_producao\"))\n",
    "\n",
    "print(\"------\"* 10)\n",
    "print(query.generated)\n"
   ]
  },
  {
   "cell_type": "code",
   "execution_count": 30,
   "metadata": {},
   "outputs": [
    {
     "data": {
      "text/plain": [
       "1"
      ]
     },
     "execution_count": 30,
     "metadata": {},
     "output_type": "execute_result"
    }
   ],
   "source": [
    "len(query.objects)"
   ]
  }
 ],
 "metadata": {
  "kernelspec": {
   "display_name": ".venv",
   "language": "python",
   "name": "python3"
  },
  "language_info": {
   "codemirror_mode": {
    "name": "ipython",
    "version": 3
   },
   "file_extension": ".py",
   "mimetype": "text/x-python",
   "name": "python",
   "nbconvert_exporter": "python",
   "pygments_lexer": "ipython3",
   "version": "3.12.8"
  }
 },
 "nbformat": 4,
 "nbformat_minor": 2
}
