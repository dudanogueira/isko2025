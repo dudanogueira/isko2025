{
 "cells": [
  {
   "cell_type": "code",
   "execution_count": 1,
   "metadata": {},
   "outputs": [],
   "source": [
    "import weaviate\n",
    "import os\n",
    "from weaviate import classes as wvc\n",
    "client = weaviate.connect_to_local()"
   ]
  },
  {
   "cell_type": "code",
   "execution_count": 6,
   "metadata": {},
   "outputs": [
    {
     "name": "stderr",
     "output_type": "stream",
     "text": [
      "/opt/homebrew/Cellar/python@3.12/3.12.8/Frameworks/Python.framework/Versions/3.12/lib/python3.12/pty.py:95: DeprecationWarning: This process (pid=74488) is multi-threaded, use of forkpty() may lead to deadlocks in the child.\n",
      "  pid, fd = os.forkpty()\n"
     ]
    },
    {
     "name": "stdout",
     "output_type": "stream",
     "text": [
      "\u001b[?25lpulling manifest ⠋ \u001b[?25h\u001b[?25l\u001b[2K\u001b[1Gpulling manifest ⠙ \u001b[?25h\u001b[?25l\u001b[2K\u001b[1Gpulling manifest ⠹ \u001b[?25h\u001b[?25l\u001b[2K\u001b[1Gpulling manifest ⠸ \u001b[?25h\u001b[?25l\u001b[2K\u001b[1Gpulling manifest ⠼ \u001b[?25h\u001b[?25l\u001b[2K\u001b[1Gpulling manifest ⠴ \u001b[?25h\u001b[?25l\u001b[2K\u001b[1Gpulling manifest ⠦ \u001b[?25h\u001b[?25l\u001b[2K\u001b[1Gpulling manifest \n",
      "pulling 970aa74c0a90... 100% ▕████████████████▏ 274 MB                         \n",
      "pulling c71d239df917... 100% ▕████████████████▏  11 KB                         \n",
      "pulling ce4a164fc046... 100% ▕████████████████▏   17 B                         \n",
      "pulling 31df23ea7daa... 100% ▕████████████████▏  420 B                         \n",
      "verifying sha256 digest \n",
      "writing manifest \n",
      "success \u001b[?25h\n",
      "\u001b[?25lpulling manifest ⠋ \u001b[?25h\u001b[?25l\u001b[2K\u001b[1Gpulling manifest ⠙ \u001b[?25h\u001b[?25l\u001b[2K\u001b[1Gpulling manifest ⠹ \u001b[?25h\u001b[?25l\u001b[2K\u001b[1Gpulling manifest ⠸ \u001b[?25h\u001b[?25l\u001b[2K\u001b[1Gpulling manifest ⠼ \u001b[?25h\u001b[?25l\u001b[2K\u001b[1Gpulling manifest \n",
      "pulling aabd4debf0c8... 100% ▕████████████████▏ 1.1 GB                         \n",
      "pulling 369ca498f347... 100% ▕████████████████▏  387 B                         \n",
      "pulling 6e4c38e1172f... 100% ▕████████████████▏ 1.1 KB                         \n",
      "pulling f4d24e9138dd... 100% ▕████████████████▏  148 B                         \n",
      "pulling a85fe2a2e58e... 100% ▕████████████████▏  487 B                         \n",
      "verifying sha256 digest \n",
      "writing manifest \n",
      "success \u001b[?25h\n"
     ]
    }
   ],
   "source": [
    "!ollama pull nomic-embed-text:latest\n",
    "!ollama pull deepseek-r1:1.5b"
   ]
  },
  {
   "cell_type": "code",
   "execution_count": null,
   "metadata": {},
   "outputs": [
    {
     "data": {
      "text/plain": [
       "<weaviate.collections.collection.sync.Collection at 0x103d39100>"
      ]
     },
     "execution_count": 2,
     "metadata": {},
     "output_type": "execute_result"
    }
   ],
   "source": [
    "from weaviate import classes as wvc\n",
    "#client.collections.delete(\"Index\")\n",
    "client.collections.create(\n",
    "    \"Index\",\n",
    "    vectorizer_config=wvc.config.Configure.Vectorizer.text2vec_ollama(\n",
    "        api_endpoint=\"http://host.docker.internal:11434\",\n",
    "        model=\"nomic-embed-text:latest\",\n",
    "    ),\n",
    "    generative_config=wvc.config.Configure.Generative.ollama(\n",
    "        model=\"deepseek-r1:1.5b\",\n",
    "        api_endpoint=\"http://host.docker.internal:11434\",\n",
    "    )\n",
    ")"
   ]
  },
  {
   "cell_type": "code",
   "execution_count": 3,
   "metadata": {},
   "outputs": [
    {
     "name": "stdout",
     "output_type": "stream",
     "text": [
      "Imported with success\n"
     ]
    }
   ],
   "source": [
    "# read csv file\n",
    "import pandas as pd\n",
    "from weaviate.util import generate_uuid5\n",
    "collection = client.collections.get(\"Index\")\n",
    "df = pd.read_csv(\"trabalhos_60700009.csv\")\n",
    "df.columns = map(str.lower, df.columns)\n",
    "# read only 10 objects\n",
    "df = df.head(500)\n",
    "with collection.batch.dynamic() as batch:\n",
    "    for index, row in df.iterrows():\n",
    "        batch.add_object(\n",
    "            dict(row),\n",
    "            uuid=generate_uuid5(row[\"indice\"]),\n",
    "        )\n",
    "if collection.batch.failed_objects:\n",
    "    print(collection.batch.failed_objects)\n",
    "else:\n",
    "    print(\"Imported with success\")"
   ]
  },
  {
   "cell_type": "code",
   "execution_count": 7,
   "metadata": {},
   "outputs": [
    {
     "data": {
      "text/plain": [
       "AggregateReturn(properties={}, total_count=500)"
      ]
     },
     "execution_count": 7,
     "metadata": {},
     "output_type": "execute_result"
    }
   ],
   "source": [
    "collection.aggregate.over_all()"
   ]
  },
  {
   "cell_type": "code",
   "execution_count": 14,
   "metadata": {},
   "outputs": [
    {
     "name": "stdout",
     "output_type": "stream",
     "text": [
      "##############################0.31778669357299805\n",
      "RESUMO A RADIOFONIA, A PRINCÍPIO UTILIZADA PARA FINS MILITARES, APENAS AO TÉRMINO DA PRIMEIRA GUERRA MUNDIAL GANHOU REPERCUSSÃO NA SOCIEDADE. IDEALIZADA NO BRASIL POR ROQUETTE PINTO E HENRY MORIZE, TINHAM COMO INTENTO UMA RÁDIO EDUCATIVA E CULTURAL. NA CONTEMPORANEIDADE, AS RÁDIOS ADERIRAM A UM CONTEXTO HIPERTEXTUAL E CONTAM COM COLABORADORES DE DIVERSAS ÁREAS DO CONHECIMENTO PARA AUXILIAR ESTE PROCESSO. DE ACORDO COM ESSE CONTEXTO, VALE LEMBRAR QUE A WEB DISPONIBILIZA, ENTRE OUTROS ASPECTOS, EXPRESSIVO VOLUME DE INFORMAÇÃO, O QUAL, SEM A DEVIDA ORGANIZAÇÃO, INVIABILIZA SUA IDENTIFICAÇÃO, ACESSO E UTILIZAÇÃO. EM DECORRÊNCIA, O ESTUDO EM TELA AO EVIDENCIAR OS DOCUMENTOS SONOROS, APRESENTA COMO FIO CONDUTOR A SEGUINTE QUESTÃO: COMO ESTÃO ORGANIZADOS OS DOCUMENTOS SONOROS NA AMBIENTE WEB DA RÁDIO UEL FM VISANDO SUA RÁPIDA E COMPLETA RECUPERAÇÃO? PARA ORIENTAR A BUSCA POR RESPOSTAS, CONSTITUIU-SE COMO OBJETIVO GERAL, PROPOR RECOMENDAÇÕES PARA A ORGANIZAÇÃO DA INFORMAÇÃO, OU SEJA, DO CONTEÚDO TEMÁTICO NO SITE DA RÁDIO UNIVERSITÁRIA DA UNIVERSIDADE ESTADUAL DE LONDRINA. O PERCURSO METODOLÓGICO CONSTITUIU-SE POR MEIO DE ESTUDO COM FINALIDADE EXPLORATÓRIA DESCRITIVA DE ABORDAGEM QUALITATIVA UTILIZANDO-SE DO MÉTODO DE ESTUDO DE CASO. A COLETA DE DADOS EFETIVOU-SE POR INTERMÉDIO DA ANÁLISE DOCUMENTAL, ENTREVISTA SEMIESTRUTURADA E O PVI. A TRIANGULAÇÃO DOS DADOS OCORREU PARA CONFERIR MAIS CREDIBILIDADE AOS RESULTADOS. EM LINHAS GERAIS CONSTATOU-SE QUE INDEPENDENTEMENTE DA PREOCUPAÇÃO DOS ENTREVISTADOS COM A ORGANIZAÇÃO DOS DOCUMENTOS SONOROS DISPONIBILIZADOS NO SITE, NÃO É REALIZADO NENHUM PROCEDIMENTO SIGNIFICATIVO PARA SUA ORGANIZAÇÃO. A PERCEPÇÃO DOS COLABORADORES NO QUE SE REFERE À RECUPERAÇÃO E ACESSO AOS DOCUMENTOS É RUDIMENTAR, UMA VEZ QUE ENTENDEM QUE BASTA SABER ONDE ESTÁ ARMAZENADO E NÃO CONSIDERAM O CONTEÚDO EM SI, FAZENDO QUE O PROCESSO DE BUSCA SEJA EXAUSTIVO E MUITAS VEZES INFRUTÍFERO. NESSE SENTIDO, TORNA-SE EVIDENTE A RELEVÂNCIA DA PARTICIPAÇÃO DE PROFISSIONAIS DA CIÊNCIA DA INFORMAÇÃO OS QUAIS, POR MEIO DE PROCEDIMENTOS CANONIZADOS PELA ÁREA, CONTRIBUIRÃO POSITIVAMENTE PARA A ORGANIZAÇÃO DO SITE E OS DOCUMENTOS DISPONIBILIZADOS, PROPORCIONANDO QUALIDADE NO ACESSO E RECUPERAÇÃO DA INFORMAÇÃO.\n",
      "NOME PRODUCAO RÁDIO UEL FM: RECOMENDAÇÕES PARA A ORGANIZAÇÃO DE CONTEÚDOS TEMÁTICOS\n",
      "##############################0.3210830092430115\n",
      "RESUMO A presente pesquisa buscou analisar o processo de criação do conhecimento em relação ao desenvolvimento de novos produtos nas pequenas empresas de base tecnológica. Para tal, buscou identificar os fluxos de informação e de conhecimento frente ao processo de criação de novos conhecimentos para o desenvolvimento de produtos nas pequenas empresas de base tecnológica. Além disso, estudou as condições e fatores que interferem no processo de criação do conhecimento, assim como as ferramentas de groupware que podem apoiar tal processo. Como base para o desenvolvimento teórico do estudo, utilizou-se a teoria de criação do conhecimento organizacional de Nonaka e Takeuchi e complementarmente os modelos de gestão de conhecimento de Leornard-Barton e dos autores Probst, Raub e Romhardt. Trata-se de uma pesquisa exploratória-descritiva, por meio de uma abordagem de análise qualitativa e quantitativa, na qual se fez uso do procedimento “estudo de caso”. O campo de investigação do estudo compreendeu uma organização de base tecnológica, de pequeno porte, localizada na grande Florianópolis/SC, na qual foram aplicados as seguintes técnicas e instrumentos de coleta de dados: questionário estruturado, entrevista semi-estruturada e análise de documentos internos. Os resultados revelaram que o processo de criação do conhecimento depende de informações e conhecimentos advindos do meio interno e externo onde o conhecimento, fruto de um processo constante de interação, para ser ampliado organizacionalmente, necessita ser compartilhado e difundido entre os diferentes níveis da organização. Contextos adequados compostos por diversas condições e fatores podem facilitar esse processo, fomentando o fluxo de informação e conhecimento ao longo do desenvolvimento de novos produtos. As diversas ferramentas de groupware, se utilizadas adequadamente conforme as necessidades da organização, podem contribuir na comunicação, colaboração e coordenação entre os colaboradores na medida em que possibilitam a troca de idéias e experiências, o diálogo coletivo e uma maior interatividade entre eles.\n",
      "NOME PRODUCAO Um estudo do processo de criação do conhecimento nas pequenas empresas de base tecnológica quando do desenvolvimento de novos produtos.\n"
     ]
    }
   ],
   "source": [
    "query = collection.query.near_text(\n",
    "    query=\"Quais os projetos relacionados a ontologia e Organização do conhecimento?\",\n",
    "    return_metadata=wvc.query.MetadataQuery(distance=True),\n",
    "    #grouped_task=\"Sumarize os conteúdos e explique porque cada um está próximo da busca: Quais os projetos relacionados a ontologia e Organização do conhecimento?\",\n",
    "    limit=200,\n",
    "    auto_limit=1\n",
    ")\n",
    "for o in query.objects:\n",
    "    print(\"###\"*10 + str(o.metadata.distance))\n",
    "    print(\"RESUMO\", o.properties.get(\"ds_resumo\"))\n",
    "    print(\"NOME PRODUCAO\", o.properties.get(\"nm_producao\"))\n",
    "\n",
    "# print(\"------\"* 10)\n",
    "# print(query.generated)\n"
   ]
  },
  {
   "cell_type": "code",
   "execution_count": 30,
   "metadata": {},
   "outputs": [
    {
     "data": {
      "text/plain": [
       "1"
      ]
     },
     "execution_count": 30,
     "metadata": {},
     "output_type": "execute_result"
    }
   ],
   "source": [
    "len(query.objects)"
   ]
  }
 ],
 "metadata": {
  "kernelspec": {
   "display_name": ".venv",
   "language": "python",
   "name": "python3"
  },
  "language_info": {
   "codemirror_mode": {
    "name": "ipython",
    "version": 3
   },
   "file_extension": ".py",
   "mimetype": "text/x-python",
   "name": "python",
   "nbconvert_exporter": "python",
   "pygments_lexer": "ipython3",
   "version": "3.12.8"
  }
 },
 "nbformat": 4,
 "nbformat_minor": 2
}
