{
 "cells": [
  {
   "cell_type": "code",
   "execution_count": 1,
   "metadata": {},
   "outputs": [
    {
     "name": "stdout",
     "output_type": "stream",
     "text": [
      "Client: 4.11.1, Server: 1.28.6\n"
     ]
    }
   ],
   "source": [
    "import weaviate\n",
    "import os\n",
    "\n",
    "client = weaviate.connect_to_weaviate_cloud(\n",
    "    cluster_url=os.getenv(\"WEAVIATE_URL\"),\n",
    "    auth_credentials=weaviate.auth.AuthApiKey(os.getenv(\"WEAVIATE_APIKEY\")),\n",
    "    headers={\n",
    "        \"X-Openai-Api-Key\": os.getenv(\"OPENAI_API_KEY\")\n",
    "    }\n",
    ")\n",
    "\n",
    "# client = weaviate.connect_to_local(\n",
    "#     headers={\n",
    "#         \"X-Openai-Api-Key\": os.getenv(\"OPENAI_API_KEY\")\n",
    "#     }\n",
    "# )\n",
    "print(f\"Client: {weaviate.__version__}, Server: {client.get_meta().get('version')}\")"
   ]
  },
  {
   "cell_type": "code",
   "execution_count": null,
   "metadata": {},
   "outputs": [],
   "source": [
    "from weaviate import classes as wvc\n",
    "\n",
    "collection = client.collections.get(\"Index\")\n",
    "\n",
    "\n",
    "def get_query(prompt: str, query: str):\n",
    "    return collection.generate.near_text(\n",
    "        query=query,\n",
    "        return_metadata=wvc.query.MetadataQuery(distance=True),\n",
    "        return_properties=[\n",
    "            \"ds_resumo\", \"nm_producao\", \"nm_programa\",\n",
    "            \"nm_entidade_ensino\", \"nm_regiao\", \"sg_uf_ies\"],\n",
    "        grouped_task=prompt,\n",
    "        limit=15,\n",
    "        # auto_limit=1\n",
    "    )\n",
    "def print_query(query):\n",
    "    print(\"------CONTEUDO GERADO-----\")\n",
    "    print(query.generated)\n",
    "\n",
    "    print(\"------OBJETOS MAIS PROXIMOS-----\")\n",
    "    for o in query.objects:\n",
    "        print(\"###\"*10 + str(o.metadata.distance))\n",
    "        print(\"RESUMO\", o.properties.get(\"ds_resumo\"))\n",
    "        print(\"NOME PRODUCAO\", o.properties.get(\"nm_producao\"))"
   ]
  },
  {
   "cell_type": "code",
   "execution_count": 14,
   "metadata": {},
   "outputs": [],
   "source": [
    "query = \"Quais os programas de pós-graduação e as instituições de ensino que mais se relacionam com a Organização do conhecimento de acordo com o Resumo e o Nome da Produção?\"\n",
    "prompt = \"Sumarize os conteúdos e explique em curtos parágrafos porque cada um está próximo da busca: Quais os projetos relacionados a ontologia e Organização do conhecimento?\"\n",
    "query = get_query(prompt, query)\n"
   ]
  },
  {
   "cell_type": "code",
   "execution_count": 8,
   "metadata": {},
   "outputs": [
    {
     "name": "stdout",
     "output_type": "stream",
     "text": [
      "------CONTEUDO GERADO-----\n",
      "Os projetos apresentados estão relacionados à ontologia e à organização do conhecimento, cada um abordando diferentes aspectos e metodologias dentro do campo da Ciência da Informação. A seguir, um resumo de cada projeto e a explicação de sua proximidade com a busca:\n",
      "\n",
      "1. **Produção Científica Docente nos Programas de Pós-Graduação em Ciência da Informação no Brasil: Um Estudo Bibliométrico (UNESP)**\n",
      "   - **Resumo:** Este estudo analisa a produção científica dos docentes em programas de pós-graduação em Ciência da Informação, focando na visibilidade e colaboração entre instituições. Utiliza redes de coautorias e colaboração institucional para entender a organização do conhecimento.\n",
      "   - **Proximidade com a busca:** A pesquisa aborda a organização do conhecimento ao analisar como a produção científica é estruturada e disseminada, além de utilizar ferramentas como redes de coautorias, que são relevantes para a ontologia.\n",
      "\n",
      "2. **Organização Social do Conhecimento: Um Estudo no Contexto das Universidades Federais Brasileiras (UNB)**\n",
      "   - **Resumo:** Este projeto caracteriza a organização social do conhecimento nas universidades federais, comparando estruturas organizacionais com classificações de áreas do conhecimento.\n",
      "   - **Proximidade com a busca:** A pesquisa foca na organização do conhecimento ao explorar como as universidades estruturam suas áreas de conhecimento, um aspecto fundamental para a ontologia.\n",
      "\n",
      "3. **Produção Científica de Bolsistas Produtividade na Pós-Graduação Stricto Sensu da UEL**\n",
      "   - **Resumo:** Estudo da produção científica em programas de pós-graduação, analisando padrões de autoria e disseminação de conhecimento.\n",
      "   - **Proximidade com a busca:** Embora o foco principal seja a produtividade científica, a análise de padrões de autoria e disseminação está relacionada à organização do conhecimento.\n",
      "\n",
      "4. **O Perfil do Docente/Pesquisador da Ciência da Informação no Brasil: Uma Análise da Formação e da Produtividade Científica (UFMG)**\n",
      "   - **Resumo:** Análise da formação e produtividade dos docentes em Ciência da Informação, utilizando dados quantitativos e qualitativos.\n",
      "   - **Proximidade com a busca:** A pesquisa contribui para a organização do conhecimento ao mapear a formação e a produção científica, aspectos que influenciam a estruturação do conhecimento.\n",
      "\n",
      "5. **Análise da Colaboração Científica dos Programas de Pós-Graduação em Ciência da Informação Brasileiros (UFSCAR)**\n",
      "   - **Resumo:** Estudo sobre a colaboração científica em programas de pós-graduação, utilizando bibliometria e análise de redes sociais.\n",
      "   - **Proximidade com a busca:** A análise de redes de colaboração científica está diretamente ligada à organização do conhecimento, pois mapeia como o conhecimento é compartilhado e estruturado.\n",
      "\n",
      "6. **Produção e Disseminação de Informação nas Organizações: O Papel da Tecnologia da Informação e a Geração de Conhecimento (PUC)**\n",
      "   - **Resumo:** Estudo sobre processos de produção e disseminação de informação nas organizações, destacando o papel da tecnologia e das relações sociais.\n",
      "   - **Proximidade com a busca:** A pesquisa aborda a organização do conhecimento ao investigar como a informação é gerida e disseminada, aspectos centrais para a ontologia.\n",
      "\n",
      "7. **Os Conceitos de Sistemas de Organização do Conhecimento e Linguagens Documentárias: Análise de Domínio nos PPGCIS – UNESP e UFMG**\n",
      "   - **Resumo:** Análise das diferenças e semelhanças entre sistemas de organização do conhecimento e linguagens documentárias, utilizando análise de conteúdo e bibliometria.\n",
      "   - **Proximidade com a busca:** Este projeto é diretamente relevante para a ontologia e organização do conhecimento, pois explora conceitos fundamentais e suas aplicações em sistemas de organização do conhecimento.\n",
      "\n",
      "Cada projeto contribui de maneira única para o campo da ontologia e organização do conhecimento, seja através da análise de produção científica, colaboração, ou estruturação de áreas do conhecimento.\n",
      "------OBJETOS MAIS PROXIMOS-----\n",
      "##############################0.3625301122665405\n",
      "RESUMO Para a construção do conhecimento científico das diferentes áreas, inclusive no contexto da.Ciência da Informação, consideram-se as produções científicas e acadêmicas como.elementos fundamentais. Desse modo, este estudo se propôs a analisar a produção.científica docente dos Programas de Pós-Graduação em Ciência da Informação.(Universidade Federal de Minas Gerais, Universidade de Brasília, Universidade Estadual.Paulista e Universidade de São Paulo) que obtiveram o conceito 5 na última avaliação.CAPES, no período de 2007 a 2009, com a finalidade de verificar a visibilidade da produção.científica. De forma mais específica, buscou-se identificar os autores mais produtivos nas.categorias livros, capítulos de livros, anais de eventos e artigos, os tipos de autorias.presentes nestas publicações, bem como as temáticas mais frequentes. Realizou-se um.levantamento dos periódicos em que os docentes publicam, bem como do estrato Qualis,.além da participação dos docentes em eventos nacionais e internacionais. O procedimento.de pesquisa deu-se a partir do levantamento das publicações dos docentes nos 28 livros,.251 capítulos de livros, 651 trabalhos em anais de eventos e 354 artigos presentes nos.Cadernos de Indicadores da CAPES. A partir das variáveis, construiu-se a rede de.coautorias docentes, a rede de colaboração institucional, além da rede que estabelece a.relação entre temática e docentes, utilizando-se o software Pajek. Os resultados apontam.que não existe um canal preferencial de divulgação das pesquisas dos docentes dos.Programas de Pós-Graduação em Ciência da Informação, mas nota-se maior frequência de.publicações em anais de eventos, principalmente nacionais. Os docentes dos programas.realizam maior colaboração entre os pesquisadores das próprias instituições, e a rede de.colaboração institucional mostrou que há pouca interlocução entre os quatro programas de.pós-graduação. Em suma, constatou-se que as temáticas concentram-se, em geral, em.questões relacionadas à Organização do Conhecimento e às Tecnologias de Informação, e.que são nos periódicos nacionais em Ciência da Informação que os docentes mais publicam.artigos.\n",
      "NOME PRODUCAO A PRODUÇÃO CIENTÍFICA DOCENTE NOS PROGRAMAS DE PÓSGRADUAÇÃO EM CIÊNCIA DA INFORMAÇÃO NO BRASIL: UM ESTUDO BIBLIOMÉTRICO\n",
      "##############################0.38755500316619873\n",
      "RESUMO A pesquisa teve como objetivo caracterizar a organização social do conhecimento no.contexto das universidades federais brasileiras, a fim de contribuir para o futuro desenvolvimento de.classificações de áreas do conhecimento condizentes com a realidade acadêmica brasileira. A.pesquisa tem caráter exploratório e foi realizado um estudo de caso. Foram descritos e analisados os.modelos de organização institucional das dez universidades federais brasileiras selecionadas na.amostra. A partir disso, se a organização social do conhecimento nessas instituições, relativamente à.na CDU e à Tabela de Áreas do Conhecimento do CNPq. Da CDU foram selecionadas as classes de.zero a três e da Tabela de Áreas do Conhecimento do CNPq, as áreas de Ciências Aplicadas e Ciências.Humanas. Concluiu-se que há semelhanças entre as três estruturas e que fatores externos.influenciam na definição da estrutura organizacional das universidades. Observou-se que essa é uma.característica da Organização Social do Conhecimento, pois esse tipo de organização está.condicionado a diversos fatores como os fenômenos sociais, culturais, econômicos e, por.conseqüência, os processos mentais do conhecimento. Como resultado foi feita uma sistematização.dentro das áreas de ciências humanas e sociais, de modo que facilitasse a compreensão da.compilação dos dados obtidos na pesquisa.\n",
      "NOME PRODUCAO Organização social do conhecimento: um estudo no contexto das universidades federais.brasileiras.\n",
      "##############################0.39564788341522217\n",
      "RESUMO Este trabalho teve como objetivo estudar a produção científica de três Programas de Pós-Graduação Stricto sensu da Universidade Estadual de Londrina, em nível de Doutorado, nota cinco na avaliação da CAPES, alcançada na avaliação do triênio 2007-2009. Para definir a população considerou-se os seguintes critérios: ser bolsista produtividade CNPq, atuar em Programas de Pós-Graduação Stricto sensu, e ter orientação de teses concluídas, no Programa ao qual está vinculado. O período do estudo de 2007 a 2011 foi definido pelo destaque obtido nos diferentes formatos de produção, disponíveis na Plataforma Lattes no item Produção Bibliográfica. Os dados coletados foram armazenados em planilha do software Microsoft Excel, criada especificamente para este estudo e foram analisados e descritos em tabelas individuais para cada objetivo do estudo. Nos padrões de autoria, o Programa de Pós-Graduação em Ciência Animal destacou-se com maior produção, 881 documentos (individual e coletiva), 343 artigos publicados em periódicos, 44 livros e capítulos de livros e 159 trabalhos completos publicados em Anais de Congresso. O Programa de Agronomia publicou 129 resumos expandidos em Anais de Congresso, seguido do Programa de Ciência de Alimentos com 90, mas nos resumos publicados em Anais de Congressos, o Programa em Ciência Animal teve maior evidência, com 229 documentos. Com referência às apresentações de trabalho, o Programa de Agronomia ocupou o 1º lugar com 59 trabalhos. Além destas publicações, foram analisadas as diferentes áreas geográficas, onde as disseminações foram publicadas, e observou-se que os três Programas destacaram-se em maior escala no âmbito nacional, principalmente com a publicação de artigos. Quanto à classificação Qualis, composta por oito estratos, todos os formatos de disseminações estiveram entre os conceitos A1 e B2. A disseminação de artigos foi realizada em 163 títulos de periódicos. Os resultados encontrados e apresentados mostraram que existe, por parte do corpo docente dos três Programas estudados da área de Ciências Agrárias, um comprometimento em produzir e disseminar toda a produção científica em todos os níveis. Observou-se, que o estudo da produção científica deve atentar para a produtividade docente como um critério relevante nas avaliações das agências de fomento, como a CAPES. Fato que denota a importância destes estudos para a busca por melhores avaliações dos Programas de Pós-Graduação.\n",
      "NOME PRODUCAO PRODUÇÃO CIENTÍFICA DE BOLSISTAS PRODUTIVIDADE NA PÓS-GRADUAÇÃO Stricto sensu DA UEL\n",
      "##############################0.3987588882446289\n",
      "RESUMO A pesquisa foi realizada com o objetivo de analisar a formação dos docentes/pesquisadores dos Programas de Pós-Graduação em Ciência da Informação no Brasil e sua produção científica nos anos de 2010 a 2021. Esta pesquisa configura-se como do tipo descritiva e exploratória quanto aos objetivos, por proporcionar maiores informações acerca de um conteúdo pouco explorado por estudos científicos. Utilizou-se como técnica de coleta de dados o levantamento bibliográfico para buscar informações que retratam a formação e a pesquisa dos docentes dos Programas de Pós-Graduação (PPG) em Ciência da Informação no Brasil. Esta pesquisa classifica-se também como quantitativa, por mensurar dados numéricos, e qualitativa, por descrever o perfil de formação e de pesquisa dos docentes/pesquisadores dos Programas de Pós-Graduação stricto sensu em Ciência da Informação do Brasil. O universo desta pesquisa é formado pelos docentes/pesquisadores dos cursos de Pós-Graduação Acadêmica (stricto sensu) em Ciência da Informação. Foram encontrados 327 docentes/pesquisadores em 18 Programas de Pós-Graduação. Os dados dos Programas foram levantados na Plataforma Sucupira e permitiram identificar quais os programas pertenciam e os que não pertenciam à área, conforme o critério estabelecido. Para análise dos perfis dos docentes/pesquisadores foram utilizadas as seguintes categorias de formação: Graduação; Mestrado; Doutorado; Mestrado e Doutorado; Docentes Sem Formação na Área; Docentes bolsistas de produtividade em pesquisa do Conselho Nacional de Desenvolvimento Científico e Tecnológico (CNPq); Linhas de Pesquisa. Para análise da produtividade científica, foram selecionados 50% dos docentes/pesquisadores com maior número de produções científicas de cada Programa, utilizando as seguintes categorias analíticas: Periódicos Científicos; Qualis/Capes e Produção Científica empregando a Taxonomia de Hawkins, Larson e Caton (2003). Esses docentes/pesquisadores produziram 6469 artigos científicos. A análise das palavras-chave dos artigos gerou 10826 termos. A análise quantitativa indicou o crescimento da Ciência da Informação no Brasil nos últimos anos, e possibilitou a visualização métrica da produção científica de cada Programa conforme o período de abrangência da pesquisa, apontando uma comunidade científica numericamente adequada em relação ao tempo de existência da Ciência da Informação no Brasil. Verificou-se que alguns Programas possuem um número expressivo de pesquisas publicadas e baixo alcance de periódicos científicos. Ao longo da pesquisa, percebeu-se que há entre os docentes/pesquisadores dos Programas de Pós-Graduação em Ciência da Informação docentes/pesquisadores que possuem uma grande variedade de formações e titulações em distintas áreas do conhecimento.\n",
      "NOME PRODUCAO O PERFIL DO DOCENTE/PESQUISADOR DA CIÊNCIA DA INFORMAÇÃO NO BRASIL: UMA ANÁLISE DA FORMAÇÃO E DA PRODUTIVIDADE CIENTÍFICA\n",
      "##############################0.3997917175292969\n",
      "RESUMO HÁ UM CRESCENTE INTERESSE EM ESTUDOS MÉTRICOS SOBRE A COLABORAÇÃO CIENTÍFICA NA PÓS-GRADUAÇÃO BRASILEIRA. PORÉM, PARTE SIGNIFICATIVA DESSES ESTUDOS SÃO REALIZADOS A PARTIR DE BASES DE DADOS BIBLIOGRÁFICAS INTERNACIONAIS EM NÍVEL MACRO, ENQUANTO OUTROS ESTUDOS LIMITAM-SE A UM DETERMINADO PROGRAMA DE PÓS- GRADUAÇÃO (PPG), IMPOSSIBILITANDO ANÁLISES COMPARATIVAS E O MAPEAMENTO DE GRUPOS. O OBJETIVO GERAL DESTA PESQUISA COMPREENDE A ELABORAÇÃO DE INDICADORES SOBRE A COLABORAÇÃO CIENTÍFICA NACIONAL E INTERNACIONAL DOS PPG DA ÁREA DE CIÊNCIAS SOCIAIS APLICADAS 1  CIÊNCIA DA INFORMAÇÃO, RECOMENDADOS PELA CAPES DO BRASIL. O MÉTODO COMPREENDEU UMA ABORDAGEM QUANTITATIVA DE NATUREZA EXPLORATÓRIA. A BIBLIOMETRIA E A ANÁLISE DE REDES SOCIAIS FORAM UTILIZADAS COMO TÉCNICAS DE ANÁLISE. A AMOSTRA ANALISADA COMPREENDEU 519 REGISTROS BIBLIOGRÁFICOS REFERENTES A PRODUÇÃO CIENTÍFICA DE 421 DOCENTES PERMANENTES QUE ATUAM EM 27 PPG DA ÁREA DE CIÊNCIAS SOCIAIS APLICADAS 1  CIÊNCIA DA INFORMAÇÃO, NO PERÍODO DE 2013 À 2018. OS RESULTADOS ALCANÇADOS COMPREENDERAM A ELABORAÇÃO DE UM CONJUNTO DE INDICADORES ENVOLVENDO: 1] CARACTERIZAÇÃO DA PRODUÇÃO CIENTÍFICA POR PPG, IDENTIFICANDO A EVOLUÇÃO E PERCENTUAL DE CONTRIBUIÇÃO; 2] IDENTIFICAÇÃO DA COLABORAÇÃO CIENTÍFICA NACIONAL E INTERNACIONAL ATRAVÉS DAS COAUTORIAS, RESSALTANDO AS INCIATIVAS COM INSTITUIÇÕES INTERNACIONAIS, OS PRINCIPAIS VEÍCULOS DE COMUNICAÇÃO E AS TEMÁTICAS MAIS INVESTIGADAS. CONCLUI-SE QUE OS RESULTADOS ALCANÇADOS PODEM CONTRIBUIR PARA O APERFEIÇOAMENTO DOS PPG E DO SISTEMA NACIONAL DE PÓS-GRADUAÇÃO, AO MAXIMIZAR A COMPREENSÃO DA COLABORAÇÃO NA ÁREA DE CIÊNCIAS SOCIAIS APLICADAS 1  CIÊNCIA DA INFORMAÇÃO, POR MEIO DA DISPONIBILIZAÇÃO DE UM CONJUNTO DE INDICADORES, ELABORADOS A PARTIR DA FUSÃO DE METADADOS DE DUAS FONTES DE INFORMAÇÕES, PLATAFORMA LATTES E WEB OF SCIENCE, POSSIBILITANDO A IDENTIFICAÇÃO DOS VÍNCULOS INSTITUCIONAIS DOS AUTORES EM RELAÇÃO AOS PPG E INSTITUIÇÕES INTERNACIONAIS.\n",
      "NOME PRODUCAO ANÁLISE DA COLABORAÇÃO CIENTÍFICA DOS PROGRAMAS DE PÓS-GRADUAÇÃO EM CIÊNCIA DA INFORMAÇÃO BRASILEIROS\n",
      "##############################0.40414726734161377\n",
      "RESUMO Estudo sobre processos e técnicas de produção e disseminação de informação que se encontram subjacentes às práticas de gestão da informação e do conhecimento nas organizações. Para tanto, apresenta-se um processo genérico de produção e disseminação de informação; o papel desempenhado pela tecnologia da informação, bem como os aspectos humanos e sociais envolvidos são investigados, tendo em vista a geração de conhecimento no âmbito organizacional. Para teste e validação da construção teórica, realiza-se uma investigação empírica por meio de entrevistas envolvendo profissionais de unidades organizacionais cujas atividades-fim relacionam-se diretamente à produção e à disseminação de informação. Como resultado, conclui-se que a tecnologia deve ser vista como um instrumento de apoio e que os indivíduos e suas relações sociais devem ter importância central na concepção do processo de produção e disseminação de informação nas organizações.\n",
      "NOME PRODUCAO Produção e disseminação de informação nas organizações: o papel da tecnologia da informação e a geração de conhecimento\n",
      "##############################0.40500837564468384\n",
      "RESUMO A ORGANIZAÇÃO DO CONHECIMENTO, DEVE DIALOGAR DE MANEIRA PRODUTIVA COM OS INSTRUMENTOS DE RECUPERAÇÃO DA INFORMAÇÃO, TENDO EM VISTA SUA EFICÁCIA , UTILIZA-SE DAS LINGUAGENS DOCUMENTÁRIAS (LDS)E DOS SISTEMAS DE ORGANIZAÇÃO DO CONHECIMENTO (SOCS). CONSIDERA-SE OPORTUNO APONTAR SEMELHANÇAS E DIFERENÇAS ENTRE OS SOCS E AS LDS, PARA POSTERIORMENTE MELHOR CARACTERIZAR O CONCEITO DE SISTEMAS DE ORGANIZAÇÃO DO CONHECIMENTO E IDENTIFICAR QUAIS SÃO OS AUTORES MAIS UTILIZADOS POR ESSA TEMÁTICA NA CIÊNCIA DA INFORMAÇÃO NO BRASIL. ASSIM, ESTA PESQUISA TEM COMO OBJETIVO ANALISAR AS TESES DE DOUTORAMENTO DOS PROGRAMAS DE PÓS GRADUAÇÃO EM CIÊNCIA DA INFORMAÇÃO COM NOTA 6 PELA CAPES NO BRASIL, SENDO ESTES O PPGCI-UNESP E PPGCI-UFMG, NA LINHA DE PRODUÇÃO E ORGANIZAÇÃO DA INFORMAÇÃO (POI) COM COBERTURA DE (2001-2015). JUSTIFICATIVA-SE A IMPORTÂNCIA DE DISCUTIR AS DIFERENÇAS CONCEITUAIS DE LDS E SOCS, POIS É COM A DEFINIÇÃO CONCEITUAL DE CADA TERMO DE ESPECIALIDADE QUE SE CARACTERIZA DETERMINADA ÁREA DE CONHECIMENTO. O CORPUS DE ANÁLISE FOI COMPOSTO POR: TESES DA LINHA POI DOS PPGCI-UNESP E PPGCI-UFMG CUJA TEMÁTICA, PRINCIPAL OU SECUNDÁRIA, ENVOLVA LDS E/OU SOCS. PARA A COLETA DE DADOS, UTILIZOU-SE DE ESTRATÉGIAS DE BUSCA QUE CONTEMPLEM OS CONCEITOS DO OBJETO DA ANÁLISE: SISTEMAS DE ORGANIZAÇÃO DO CONHECIMENTO, LINGUAGENS DOCUMENTÁRIAS, TESAUROS, SISTEMAS DE CLASSIFICAÇÃO, TAXONOMIAS, ONTOLOGIAS E ETC.. A ANÁLISE A SER REALIZADA SEGUE A ABORDAGEM CONCEITUAL, ALICERÇADO PELA ANÁLISE DO CONTEÚDO DE BARDIN (1977), A FIM DE IDENTIFICAR PONTOS DE CONVERGÊNCIAS E AS COMPLEMENTARIEDADES ENTRE OS CONCEITOS DE LDS E SOCS NOS TRABALHOS ANALISADOS E ASSIM TRAÇAR O CAMINHO CONCEITUAL PROPOSTO POR ESSES PPGCIS COM MAIORES NOTAS NO BRASIL. REALIZOU-SE QUADROS CONCEITUAIS A FIM DE CONSTATAR SE HÁ DIFERENÇAS CONCEITUAIS DOS PESQUISADORES PERTENCENTES AO MESMO PROGRAMA DE PÓS GRADUAÇÃO. UTILIZOU-SE AINDA A ABORDAGEM BIBLIOMÉTRICA, A FIM DE IDENTIFICAR A REFERÊNCIA BIBLIOGRÁFICA MAIS UTILIZADA E SEGUIDA POR ESSA COMUNIDADE DISCURSIVA. DESTA FORMA, ENTENDE-SE QUE A PRESENTE PESQUISA FOI DESENVOLVIDA A LUZ DA ANÁLISE DE DOMÍNIO, ABORDANDO ANÁLISES DO CONTEÚDO, A FIM DE ENTENDER OS CONCEITOS PROPOSTO E ANALISE BIBLIOMÉTRICA PARA IDENTIFICAR A BASE BIBLIOGRÁFICA MAIS REFERENCIADA. COM A ANÁLISE DO CONTEÚDO OBSERVOU-SE QUE UMA DAS COMPLEMENTARIEDADES DE LDS E SOCS ESTÁ NA FUNÇÃO DE REPRESENTAÇÃO E ORGANIZAÇÃO EM AMBIENTES DIGITAIS ONLINES, TAL FUNÇÃO SÓ É ALCANÇADA PELOS SOCS. IDENTIFICA-SE COM A ANÁLISE BIBLIOMÉTRICA QUE PARA A DEFINIÇÃO DE SOCS É UTILIZADA A MESMA BASE BIBLIOGRÁFICA PARA OS PPGCIS UNESP E UFMG, ENQUANTO PARA O CONCEITO DE LDS AS REFERÊNCIAS SÃO DISTINTAS.\n",
      "NOME PRODUCAO OS CONCEITOS DE SISTEMAS DE ORGANIZAÇÃO DO CONHECIMENTO E LINGUAGENS DOCUMENTÁRIAS: ANÁLISE DE DOMÍNIO NOS PPGCIS  UNESP E UFMG\n"
     ]
    }
   ],
   "source": [
    "print_query(query)"
   ]
  }
 ],
 "metadata": {
  "kernelspec": {
   "display_name": ".venv",
   "language": "python",
   "name": "python3"
  },
  "language_info": {
   "codemirror_mode": {
    "name": "ipython",
    "version": 3
   },
   "file_extension": ".py",
   "mimetype": "text/x-python",
   "name": "python",
   "nbconvert_exporter": "python",
   "pygments_lexer": "ipython3",
   "version": "3.12.9"
  }
 },
 "nbformat": 4,
 "nbformat_minor": 2
}
